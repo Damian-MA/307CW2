{
  "nbformat": 4,
  "nbformat_minor": 5,
  "metadata": {
    "kernelspec": {
      "display_name": "Python 3",
      "language": "python",
      "name": "python3"
    },
    "language_info": {
      "codemirror_mode": {
        "name": "ipython",
        "version": 3
      },
      "file_extension": ".py",
      "mimetype": "text/x-python",
      "name": "python",
      "nbconvert_exporter": "python",
      "pygments_lexer": "ipython3",
      "version": "3.8.8"
    },
    "colab": {
      "name": "307 preprocessing1.ipynb",
      "provenance": []
    }
  },
  "cells": [
    {
      "cell_type": "code",
      "metadata": {
        "id": "0097c59b"
      },
      "source": [
        "import tensorflow as tf\n",
        "from lxml import etree\n",
        "import os\n",
        "from PIL import Image\n",
        "import tensorflow as tf\n",
        "import numpy as np\n",
        "import cv2\n",
        "\n",
        "\n"
      ],
      "id": "0097c59b",
      "execution_count": 1,
      "outputs": []
    },
    {
      "cell_type": "code",
      "metadata": {
        "id": "920157d5"
      },
      "source": [
        "#定义解析单个lxml文件\n",
        "def parse_xml(xml_path,name_label_map):\n",
        "    tree = etree.parse(xml_path)\n",
        "    dict = {}\n",
        "    for x in tree.xpath('//filename'):\n",
        "        if len(x):\n",
        "            print(\"error\")\n",
        "        else:\n",
        "            dict[\"image_\"+x.tag] = x.text\n",
        "    for x in tree.xpath('//size'):\n",
        "        for x1 in x.getchildren():\n",
        "            dict[\"image_\"+x1.tag] = x1.text\n",
        "    object_numbers = 0\n",
        "    #可能存在多个object节点，即多目标检测\n",
        "    for obj in tree.xpath('//object'):\n",
        "        #获取当前object节点的子节点\n",
        "        for x in obj.getchildren():\n",
        "            #判断节点x是否有子节点\n",
        "            if len(x):\n",
        "                if x.tag == 'bndbox':\n",
        "                    for bbox in x.getchildren():\n",
        "                        dict['object_'+str(object_numbers)+'/bndbbox/'+bbox.tag] = bbox.text\n",
        "                else:\n",
        "                    pass\n",
        "            elif x.tag == 'name':\n",
        "                #将name与id均保存到字典中\n",
        "                dict[\"object_\"+str(object_numbers)+\"/\"+x.tag] = x.text\n",
        "                dict[\"object_\" + str(object_numbers) + \"/id\" ] = name_label_map[x.text]\n",
        "            else:\n",
        "                pass\n",
        "        object_numbers += 1\n",
        "    dict['object_number'] = object_numbers\n",
        "    return dict"
      ],
      "id": "920157d5",
      "execution_count": 2,
      "outputs": []
    },
    {
      "cell_type": "code",
      "metadata": {
        "id": "bf4e780d"
      },
      "source": [
        "#将name与label的映射map文件解析为字典格式\n",
        "# name<---->id\n",
        "def parse_map_file(map_file):\n",
        "    name_label_map = {}\n",
        "    with open(map_file) as f:\n",
        "        id = 0\n",
        "        for line in f.readlines():\n",
        "            if len(line) > 1:\n",
        "                if line.find('id') != -1:\n",
        "                    line = line.strip('\\\\n')\n",
        "                    line = line.strip(' ')\n",
        "                    colon = line.index(':')\n",
        "                    colon = colon + 1\n",
        "                    line_id = line[colon:].strip(' ')\n",
        "                    id = int(line_id)\n",
        "                elif line.find('name') != -1:\n",
        "                    line = line.strip('\\\\n').strip(' ')\n",
        "                    first = line.index(\"'\")\n",
        "                    last = line.rindex(\"'\")\n",
        "                    line_name = line[first+1:last]\n",
        "                    name_label_map[line_name]=id\n",
        "                    id = 0\n",
        "                else:\n",
        "                    pass\n",
        "            else:\n",
        "                #print(\"empty line\")\n",
        "                pass\n",
        "    return name_label_map\n"
      ],
      "id": "bf4e780d",
      "execution_count": 3,
      "outputs": []
    },
    {
      "cell_type": "code",
      "metadata": {
        "id": "a9dea94a",
        "colab": {
          "base_uri": "https://localhost:8080/",
          "height": 351
        },
        "outputId": "42a00aea-8920-4871-e932-0b3f6557746b"
      },
      "source": [
        "MAP_FILE = r\"\\Users\\Administrator\\Desktop\\pascal_label_map.pbtxt\"\n",
        "BASE_PATH= r\"F:\\VOCtrainval_11-May-2012\\VOCdevkit\\VOC2012\\Annotations\"\n",
        "BASE_JPEG_PATH = r\"F:\\VOCtrainval_11-May-2012\\VOCdevkit\\VOC2012\\JPEGImages\"\n",
        "name_label_map = parse_map_file(MAP_FILE)\n",
        "xml_file_list = os.listdir(BASE_PATH)\n",
        "train_list = []\n",
        "test_list = []\n",
        "j = 0\n",
        "for i in range(len(xml_file_list)):\n",
        "    if j % 6 == 0:\n",
        "        test_list.append(xml_file_list[i])\n",
        "    else:\n",
        "        train_list.append(xml_file_list[i])\n",
        "    j = j + 1\n",
        "with tf.compat.v1.python_io.TFRecordWriter(path=r\"F:\\VOCtrainval_11-May-2012\\train.tfrecords\") as tf_writer:\n",
        "    for i in range(len(train_list)):\n",
        "        file_path = os.path.join(BASE_PATH,train_list[i])\n",
        "        if os.path.isfile(file_path):\n",
        "            #解析xml为字典格式数据\n",
        "            xml_dict = parse_xml(file_path,name_label_map)\n",
        "            image = Image.open(os.path.join(BASE_JPEG_PATH,xml_dict['image_filename']))\n",
        "            image_bytes = image.tobytes()\n",
        "            features = {}\n",
        "            features[\"image\"] = tf.train.Feature(bytes_list=tf.train.BytesList(value = [image_bytes]))\n",
        "            features['image_width'] = tf.train.Feature(int64_list=tf.train.Int64List(value = [int(xml_dict['image_width'])]))\n",
        "            features['image_height'] = tf.train.Feature(\n",
        "                int64_list=tf.train.Int64List(value=[int(xml_dict['image_height'])]))\n",
        "            features['image_depth'] = tf.train.Feature(\n",
        "                int64_list=tf.train.Int64List(value=[int(xml_dict['image_depth'])]))\n",
        "            features['image/object_number'] = tf.train.Feature(\n",
        "                int64_list=tf.train.Int64List(value=[int(xml_dict['object_number'])]))\n",
        "            xmin = []\n",
        "            xmax = []\n",
        "            ymin = []\n",
        "            ymax = []\n",
        "            object_id = []\n",
        "            object_name = []\n",
        "            object_number = xml_dict['object_number']\n",
        "            for j in range(object_number):\n",
        "                object_i = 'object_'+str(j)\n",
        "                #print(xml_dict[object_i+'/name'])\n",
        "                #print(type(xml_dict[object_i+'/name']))\n",
        "                object_name.append(bytes(xml_dict[object_i+'/name'],'utf-8'))\n",
        "                object_id.append(int(xml_dict[object_i+'/id']))\n",
        "                xmin.append(float(xml_dict[object_i+'/bndbbox/xmin']))\n",
        "                xmax.append(float(xml_dict[object_i + '/bndbbox/xmax']))\n",
        "                ymin.append(float(xml_dict[object_i + '/bndbbox/ymin']))\n",
        "                ymax.append(float(xml_dict[object_i + '/bndbbox/ymax']))\n",
        "            #变长数据以list形式存储\n",
        "            features[\"image/object/names\"] = tf.train.Feature(bytes_list=tf.train.BytesList(value=object_name))\n",
        "            features['image/object/id'] = tf.train.Feature(int64_list=tf.train.Int64List(value=object_id))\n",
        "            features['image/object/xmin'] = tf.train.Feature(float_list=tf.train.FloatList(value=xmin))\n",
        "            features['image/object/xmax'] = tf.train.Feature(float_list=tf.train.FloatList(value=xmax))\n",
        "            features['image/object/ymin'] = tf.train.Feature(float_list=tf.train.FloatList(value=ymin))\n",
        "            features['image/object/ymax'] = tf.train.Feature(float_list=tf.train.FloatList(value=ymax))\n",
        "            tf_features = tf.train.Features(feature=features)\n",
        "            tf_example = tf.train.Example(features=tf_features)\n",
        "            tf_serialized = tf_example.SerializeToString()\n",
        "            tf_writer.write(tf_serialized)"
      ],
      "id": "a9dea94a",
      "execution_count": 4,
      "outputs": [
        {
          "output_type": "error",
          "ename": "FileNotFoundError",
          "evalue": "ignored",
          "traceback": [
            "\u001b[0;31m---------------------------------------------------------------------------\u001b[0m",
            "\u001b[0;31mFileNotFoundError\u001b[0m                         Traceback (most recent call last)",
            "\u001b[0;32m<ipython-input-4-9c2056d089fb>\u001b[0m in \u001b[0;36m<module>\u001b[0;34m()\u001b[0m\n\u001b[1;32m      2\u001b[0m \u001b[0mBASE_PATH\u001b[0m\u001b[0;34m=\u001b[0m \u001b[0;34mr\"F:\\VOCtrainval_11-May-2012\\VOCdevkit\\VOC2012\\Annotations\"\u001b[0m\u001b[0;34m\u001b[0m\u001b[0;34m\u001b[0m\u001b[0m\n\u001b[1;32m      3\u001b[0m \u001b[0mBASE_JPEG_PATH\u001b[0m \u001b[0;34m=\u001b[0m \u001b[0;34mr\"F:\\VOCtrainval_11-May-2012\\VOCdevkit\\VOC2012\\JPEGImages\"\u001b[0m\u001b[0;34m\u001b[0m\u001b[0;34m\u001b[0m\u001b[0m\n\u001b[0;32m----> 4\u001b[0;31m \u001b[0mname_label_map\u001b[0m \u001b[0;34m=\u001b[0m \u001b[0mparse_map_file\u001b[0m\u001b[0;34m(\u001b[0m\u001b[0mMAP_FILE\u001b[0m\u001b[0;34m)\u001b[0m\u001b[0;34m\u001b[0m\u001b[0;34m\u001b[0m\u001b[0m\n\u001b[0m\u001b[1;32m      5\u001b[0m \u001b[0mxml_file_list\u001b[0m \u001b[0;34m=\u001b[0m \u001b[0mos\u001b[0m\u001b[0;34m.\u001b[0m\u001b[0mlistdir\u001b[0m\u001b[0;34m(\u001b[0m\u001b[0mBASE_PATH\u001b[0m\u001b[0;34m)\u001b[0m\u001b[0;34m\u001b[0m\u001b[0;34m\u001b[0m\u001b[0m\n\u001b[1;32m      6\u001b[0m \u001b[0mtrain_list\u001b[0m \u001b[0;34m=\u001b[0m \u001b[0;34m[\u001b[0m\u001b[0;34m]\u001b[0m\u001b[0;34m\u001b[0m\u001b[0;34m\u001b[0m\u001b[0m\n",
            "\u001b[0;32m<ipython-input-3-a1f98ba7ae64>\u001b[0m in \u001b[0;36mparse_map_file\u001b[0;34m(map_file)\u001b[0m\n\u001b[1;32m      3\u001b[0m \u001b[0;32mdef\u001b[0m \u001b[0mparse_map_file\u001b[0m\u001b[0;34m(\u001b[0m\u001b[0mmap_file\u001b[0m\u001b[0;34m)\u001b[0m\u001b[0;34m:\u001b[0m\u001b[0;34m\u001b[0m\u001b[0;34m\u001b[0m\u001b[0m\n\u001b[1;32m      4\u001b[0m     \u001b[0mname_label_map\u001b[0m \u001b[0;34m=\u001b[0m \u001b[0;34m{\u001b[0m\u001b[0;34m}\u001b[0m\u001b[0;34m\u001b[0m\u001b[0;34m\u001b[0m\u001b[0m\n\u001b[0;32m----> 5\u001b[0;31m     \u001b[0;32mwith\u001b[0m \u001b[0mopen\u001b[0m\u001b[0;34m(\u001b[0m\u001b[0mmap_file\u001b[0m\u001b[0;34m)\u001b[0m \u001b[0;32mas\u001b[0m \u001b[0mf\u001b[0m\u001b[0;34m:\u001b[0m\u001b[0;34m\u001b[0m\u001b[0;34m\u001b[0m\u001b[0m\n\u001b[0m\u001b[1;32m      6\u001b[0m         \u001b[0mid\u001b[0m \u001b[0;34m=\u001b[0m \u001b[0;36m0\u001b[0m\u001b[0;34m\u001b[0m\u001b[0;34m\u001b[0m\u001b[0m\n\u001b[1;32m      7\u001b[0m         \u001b[0;32mfor\u001b[0m \u001b[0mline\u001b[0m \u001b[0;32min\u001b[0m \u001b[0mf\u001b[0m\u001b[0;34m.\u001b[0m\u001b[0mreadlines\u001b[0m\u001b[0;34m(\u001b[0m\u001b[0;34m)\u001b[0m\u001b[0;34m:\u001b[0m\u001b[0;34m\u001b[0m\u001b[0;34m\u001b[0m\u001b[0m\n",
            "\u001b[0;31mFileNotFoundError\u001b[0m: [Errno 2] No such file or directory: 'C:\\\\Users\\\\Administrator\\\\Desktop\\\\pascal_label_map.pbtxt'"
          ]
        }
      ]
    },
    {
      "cell_type": "code",
      "metadata": {
        "id": "c603480a"
      },
      "source": [
        "def parse_tf(example_proto):\n",
        "    dics = {}\n",
        "    #定长数据解析\n",
        "    dics['image'] = tf.io.FixedLenFeature(shape=[],dtype=tf.string)\n",
        "    dics['image_width'] = tf.io.FixedLenFeature(shape=[], dtype=tf.int64)\n",
        "    dics['image_height'] = tf.io.FixedLenFeature(shape=[], dtype=tf.int64)\n",
        "    dics['image_depth'] = tf.io.FixedLenFeature(shape=[], dtype=tf.int64)\n",
        "    dics['image/object_number']= tf.io.FixedLenFeature(shape=[], dtype=tf.int64)\n",
        "\n",
        "    #列表数据解析\n",
        "    dics[\"image/object/names\"] = tf.io.VarLenFeature(tf.string)\n",
        "    dics['image/object/id'] = tf.io.VarLenFeature(tf.int64)\n",
        "    dics['image/object/xmin'] = tf.io.VarLenFeature(tf.float32)\n",
        "    dics['image/object/xmax'] = tf.io.VarLenFeature(tf.float32)\n",
        "    dics['image/object/ymin'] = tf.io.VarLenFeature(tf.float32)\n",
        "    dics['image/object/ymax'] = tf.io.VarLenFeature(tf.float32)\n",
        "    parse_example = tf.io.parse_single_example(serialized=example_proto,features=dics)\n",
        "    object_number = parse_example[\"image/object_number\"]\n",
        "    xmin = parse_example['image/object/xmin']\n",
        "    xmax = parse_example['image/object/xmax']\n",
        "    ymin = parse_example['image/object/ymin']\n",
        "    ymax = parse_example['image/object/ymax']\n",
        "    image = tf.io.decode_raw(parse_example['image'],out_type=tf.uint8)\n",
        "    w = parse_example['image_width']\n",
        "    h = parse_example['image_height']\n",
        "    c = parse_example['image_depth']\n",
        "    return image,w,h,c,object_number,xmin,xmax,ymin,ymax\n"
      ],
      "id": "c603480a",
      "execution_count": null,
      "outputs": []
    },
    {
      "cell_type": "code",
      "metadata": {
        "id": "bf2adefe",
        "outputId": "48d6e5dd-a12b-41d5-9d60-c03f262d9085"
      },
      "source": [
        "dataset = tf.compat.v1.data.TFRecordDataset(r\"F:\\VOCtrainval_11-May-2012\\train.tfrecords\")\n",
        "dataset = dataset.map(parse_tf).batch(1).repeat(1)\n",
        "\n",
        "iterator = dataset.make_one_shot_iterator()\n",
        "\n",
        "next_element = iterator.get_next()\n",
        "\n",
        "with tf.compat.v1.Session() as session:\n",
        "    tf.compat.v1.disable_eager_execution()\n",
        "    image, w, h, c, object_number, xmin, xmax, ymin, ymax = session.run(fetches=next_element)\n",
        "    image = np.reshape(image,newshape=[h[0],w[0],c[0]])\n",
        "    #使用OpenCV绘制表框\n",
        "    for i in range(object_number[0]):\n",
        "        #左上角坐标与右下角坐标\n",
        "        cv2.rectangle(image,(xmin.values[i],ymin.values[i]),(xmax.values[i],ymax.values[i]),color=(0,255,0))\n",
        "    cv2.imshow(\"s\",image)\n",
        "    cv2.waitKey(0)"
      ],
      "id": "bf2adefe",
      "execution_count": null,
      "outputs": [
        {
          "output_type": "stream",
          "text": [
            "<ipython-input-42-a7762a63a2fd>:15: DeprecationWarning: an integer is required (got type numpy.float32).  Implicit conversion to integers using __int__ is deprecated, and may be removed in a future version of Python.\n",
            "  cv2.rectangle(image,(xmin.values[i],ymin.values[i]),(xmax.values[i],ymax.values[i]),color=(0,255,0))\n"
          ],
          "name": "stderr"
        }
      ]
    },
    {
      "cell_type": "code",
      "metadata": {
        "id": "cdf401a5"
      },
      "source": [
        ""
      ],
      "id": "cdf401a5",
      "execution_count": null,
      "outputs": []
    },
    {
      "cell_type": "code",
      "metadata": {
        "id": "e9948df2"
      },
      "source": [
        ""
      ],
      "id": "e9948df2",
      "execution_count": null,
      "outputs": []
    }
  ]
}