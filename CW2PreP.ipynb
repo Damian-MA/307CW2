{
  "nbformat": 4,
  "nbformat_minor": 0,
  "metadata": {
    "colab": {
      "name": "CW2PreP.ipynb",
      "provenance": [],
      "collapsed_sections": []
    },
    "kernelspec": {
      "name": "python3",
      "display_name": "Python 3"
    },
    "language_info": {
      "name": "python"
    }
  },
  "cells": [
    {
      "cell_type": "code",
      "metadata": {
        "id": "imw8mb_OaDZa"
      },
      "source": [
        "import os\n",
        "import tensorflow as tf\n",
        "from lxml import etree\n",
        "from PIL import Image\n",
        "import tensorflow as tf\n",
        "import numpy as np\n",
        "import cv2"
      ],
      "execution_count": 3,
      "outputs": []
    },
    {
      "cell_type": "code",
      "metadata": {
        "colab": {
          "base_uri": "https://localhost:8080/",
          "height": 249
        },
        "id": "DYRTk6-rgEaP",
        "outputId": "521e8ad9-d25b-4dc6-e1d9-82162a21d4f6"
      },
      "source": [
        "# Split out the serial number\n",
        "folder1=r'\\Users\\damianma\\Documents\\MSCfiles\\2ndSemester\\307\\CW2\\VOC2012\\SegmentationClass'\n",
        "folder2=r'\\Users\\damianma\\Documents\\MSCfiles\\2ndSemester\\307\\CW2\\VOC2012\\JPEGImages'\n",
        "\n",
        "folder1_sub_name=os.listdir(folder1)\n",
        "folder2_sub_name=os.listdir(folder2)\n",
        "\n",
        "split_folder1=[]\n",
        "split_folder2=[]\n",
        "for i in folder1_sub_name:\n",
        "  i=i.split('.')[0]\n",
        "  split_folder1.append(i)\n",
        "\n",
        "for i in folder2_sub_name:\n",
        "  i=i.split('.')[0]\n",
        "  split_folder1.append(i)\n",
        "\n",
        "# Pre-processing\n",
        "# Eliminate the uncorresponding pictures in the JPEG file in the label\n",
        "file_path=[]\n",
        "for i in split_folder2:\n",
        "  if i not in split_folder1:\n",
        "    file_path='/Users/damianma/Documents/MSCfiles/2ndSemester/307/CW2/VOC2012/JPEGImages'+'/'+str(i)+'jpg'\n",
        "    file_path.append(file_path)\n",
        "    os.remove(file_path)\n",
        "    print(\"the file is removed:\",file_path)\n",
        "\n"
      ],
      "execution_count": 8,
      "outputs": [
        {
          "output_type": "error",
          "ename": "FileNotFoundError",
          "evalue": "ignored",
          "traceback": [
            "\u001b[0;31m---------------------------------------------------------------------------\u001b[0m",
            "\u001b[0;31mFileNotFoundError\u001b[0m                         Traceback (most recent call last)",
            "\u001b[0;32m<ipython-input-8-56a90d8d8684>\u001b[0m in \u001b[0;36m<module>\u001b[0;34m()\u001b[0m\n\u001b[1;32m      3\u001b[0m \u001b[0mfolder2\u001b[0m\u001b[0;34m=\u001b[0m\u001b[0;34mr'\\Users\\damianma\\Documents\\MSCfiles\\2ndSemester\\307\\CW2\\VOC2012\\JPEGImages'\u001b[0m\u001b[0;34m\u001b[0m\u001b[0;34m\u001b[0m\u001b[0m\n\u001b[1;32m      4\u001b[0m \u001b[0;34m\u001b[0m\u001b[0m\n\u001b[0;32m----> 5\u001b[0;31m \u001b[0mfolder1_sub_name\u001b[0m\u001b[0;34m=\u001b[0m\u001b[0mos\u001b[0m\u001b[0;34m.\u001b[0m\u001b[0mlistdir\u001b[0m\u001b[0;34m(\u001b[0m\u001b[0mfolder1\u001b[0m\u001b[0;34m)\u001b[0m\u001b[0;34m\u001b[0m\u001b[0;34m\u001b[0m\u001b[0m\n\u001b[0m\u001b[1;32m      6\u001b[0m \u001b[0mfolder2_sub_name\u001b[0m\u001b[0;34m=\u001b[0m\u001b[0mos\u001b[0m\u001b[0;34m.\u001b[0m\u001b[0mlistdir\u001b[0m\u001b[0;34m(\u001b[0m\u001b[0mfolder2\u001b[0m\u001b[0;34m)\u001b[0m\u001b[0;34m\u001b[0m\u001b[0;34m\u001b[0m\u001b[0m\n\u001b[1;32m      7\u001b[0m \u001b[0;34m\u001b[0m\u001b[0m\n",
            "\u001b[0;31mFileNotFoundError\u001b[0m: [Errno 2] No such file or directory: '\\\\Users\\\\damianma\\\\Documents\\\\MSCfiles\\\\2ndSemester\\\\307\\\\CW2\\\\VOC2012\\\\SegmentationClass'"
          ]
        }
      ]
    },
    {
      "cell_type": "code",
      "metadata": {
        "id": "cEHvP1_O9fEY"
      },
      "source": [
        "# Replace the .png file under segmentation with a JPEG file\n",
        "renames=[]\n",
        "\n",
        "folder3='/Users/damianma/Documents/MSCfiles/2ndSemester/307/CW2/VOC2012/Segmentation'\n",
        "\n",
        "filename=os.listdir(folder3)\n",
        "for i in filename:\n",
        "  scr_name='/Users/damianma/Documents/MSCfiles/2ndSemester/307/CW2/VOC2012/SegmentationClass'+'/'+i\n",
        "\n",
        "  s=os.path.splitext(i)[0]\n",
        "  tar_name='/Users/damianma/Documents/MSCfiles/2ndSemester/307/CW2/VOC2012/SegmentationClass'+'/'+s+'.jpg'\n",
        "  print(tar_name)\n",
        "  rename_1=os.rename(scr_name,tar_name)\n",
        "  "
      ],
      "execution_count": null,
      "outputs": []
    }
  ]
}